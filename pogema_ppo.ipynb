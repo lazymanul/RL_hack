{
 "cells": [
  {
   "cell_type": "code",
   "execution_count": 3,
   "metadata": {},
   "outputs": [],
   "source": [
    "import gym\n",
    "from pogema_ppo import *\n",
    "\n",
    "from pogema.wrappers.multi_time_limit import MultiTimeLimit\n",
    "from pogema.animation import AnimationMonitor\n",
    "from IPython.display import SVG, display\n"
   ]
  },
  {
   "cell_type": "code",
   "execution_count": 9,
   "metadata": {},
   "outputs": [],
   "source": [
    "grid_config = GridConfig(num_agents=1, # количество агентов на карте\n",
    "                             size=10,      # размеры карты\n",
    "                             density=0.3,  # плотность препятствий\n",
    "                             seed=1,       # сид генерации задания \n",
    "                             max_episode_steps=256,  # максимальная длина эпизода\n",
    "                             obs_radius=5, # радиус обзора\n",
    "                            )\n",
    "\n",
    "env = gym.make(\"Pogema-v0\", grid_config=grid_config)\n",
    "env = AnimationMonitor(env)\n",
    "\n",
    "# обновляем окружение\n",
    "obs = env.reset()\n",
    "model = PPO(obs[0].shape[0] * obs[0].shape[1] * obs[0].shape[2], env.action_space.n)\n",
    "score = 0.0\n",
    "print_interval = 20\n",
    "iterations = 200\n",
    "min_play_reward = 50"
   ]
  },
  {
   "cell_type": "code",
   "execution_count": 10,
   "metadata": {},
   "outputs": [],
   "source": [
    "def play_game():\n",
    "    done = False\n",
    "    state = env.reset()    \n",
    "    while(not done): \n",
    "        print(states_current)       \n",
    "        prob = model.pi(torch.from_numpy(states_current).float())\n",
    "        m = Categorical(prob)\n",
    "        a = m.sample().item()\n",
    "        s_prime, r, done, info = env.step(a)\n",
    "        #env.render()\n",
    "        state = s_prime  "
   ]
  },
  {
   "cell_type": "code",
   "execution_count": 11,
   "metadata": {},
   "outputs": [
    {
     "name": "stdout",
     "output_type": "stream",
     "text": [
      "# of episode :20, avg score : -247.4\n",
      "# of episode :40, avg score : -232.9\n",
      "# of episode :60, avg score : -208.2\n",
      "# of episode :80, avg score : -97.3\n",
      "# of episode :100, avg score : -32.9\n",
      "# of episode :120, avg score : -17.8\n",
      "# of episode :140, avg score : -15.1\n",
      "# of episode :160, avg score : -14.1\n",
      "# of episode :180, avg score : -12.1\n"
     ]
    },
    {
     "data": {
      "image/svg+xml": "<svg xmlns=\"http://www.w3.org/2000/svg\" xmlns:xlink=\"http://www.w3.org/1999/xlink\" width=\"200\" height=\"200\" viewBox=\"0 -2000 2000 2000\">\n<defs>\n</defs>\n<rect x=\"305\" y=\"-1295\" width=\"1090\" height=\"1090\" stroke=\"#c1433c\" stroke-width=\"10\" fill=\"none\" rx=\"15\" stroke-dasharray=\"25\">\n<animate repeatCount=\"indefinite\" keyTimes=\"0.0;0.0769230769;0.2307692308;0.3076923077;0.3846153846;0.6153846154;0.6923076923;1.0\" attributeName=\"x\" dur=\"3.3600000000000003s\" values=\"305;305;305;205;105;105;205;205\"/>\n<animate repeatCount=\"indefinite\" keyTimes=\"0.0;0.0769230769;0.1538461538;0.2307692308;0.3846153846;0.4615384615;0.5384615385;0.6153846154;0.6923076923;0.7692307692;0.8461538462;0.9230769231;1.0\" attributeName=\"y\" dur=\"3.3600000000000003s\" values=\"-1295;-1295;-1195;-1095;-1095;-1195;-1295;-1395;-1395;-1495;-1495;-1595;-1695\"/>\n<animate repeatCount=\"indefinite\" keyTimes=\"0.0;0.0769230769;0.9230769231;1.0\" attributeName=\"visibility\" dur=\"3.3600000000000003s\" values=\"visible;visible;visible;hidden\"/>\n</rect>\n<rect x=\"415\" y=\"-485\" width=\"70\" height=\"70\" rx=\"15\" fill=\"#84A1AE\">\n<animate repeatCount=\"indefinite\" keyTimes=\"0.0;0.0769230769;1.0\" attributeName=\"opacity\" dur=\"3.3600000000000003s\" values=\"1.0;1.0;1.0\"/>\n</rect>\n<rect x=\"415\" y=\"-585\" width=\"70\" height=\"70\" rx=\"15\" fill=\"#84A1AE\">\n<animate repeatCount=\"indefinite\" keyTimes=\"0.0;0.0769230769;1.0\" attributeName=\"opacity\" dur=\"3.3600000000000003s\" values=\"1.0;1.0;1.0\"/>\n</rect>\n<rect x=\"415\" y=\"-685\" width=\"70\" height=\"70\" rx=\"15\" fill=\"#84A1AE\">\n<animate repeatCount=\"indefinite\" keyTimes=\"0.0;0.0769230769;1.0\" attributeName=\"opacity\" dur=\"3.3600000000000003s\" values=\"1.0;1.0;1.0\"/>\n</rect>\n<rect x=\"415\" y=\"-785\" width=\"70\" height=\"70\" rx=\"15\" fill=\"#84A1AE\">\n<animate repeatCount=\"indefinite\" keyTimes=\"0.0;0.0769230769;1.0\" attributeName=\"opacity\" dur=\"3.3600000000000003s\" values=\"1.0;1.0;1.0\"/>\n</rect>\n<rect x=\"415\" y=\"-885\" width=\"70\" height=\"70\" rx=\"15\" fill=\"#84A1AE\">\n<animate repeatCount=\"indefinite\" keyTimes=\"0.0;0.0769230769;1.0\" attributeName=\"opacity\" dur=\"3.3600000000000003s\" values=\"1.0;1.0;1.0\"/>\n</rect>\n<rect x=\"415\" y=\"-985\" width=\"70\" height=\"70\" rx=\"15\" fill=\"#84A1AE\">\n<animate repeatCount=\"indefinite\" keyTimes=\"0.0;0.0769230769;1.0\" attributeName=\"opacity\" dur=\"3.3600000000000003s\" values=\"1.0;1.0;1.0\"/>\n</rect>\n<rect x=\"415\" y=\"-1085\" width=\"70\" height=\"70\" rx=\"15\" fill=\"#84A1AE\">\n<animate repeatCount=\"indefinite\" keyTimes=\"0.0;0.0769230769;1.0\" attributeName=\"opacity\" dur=\"3.3600000000000003s\" values=\"1.0;1.0;1.0\"/>\n</rect>\n<rect x=\"415\" y=\"-1185\" width=\"70\" height=\"70\" rx=\"15\" fill=\"#84A1AE\">\n<animate repeatCount=\"indefinite\" keyTimes=\"0.0;0.0769230769;1.0\" attributeName=\"opacity\" dur=\"3.3600000000000003s\" values=\"1.0;1.0;1.0\"/>\n</rect>\n<rect x=\"415\" y=\"-1285\" width=\"70\" height=\"70\" rx=\"15\" fill=\"#84A1AE\">\n<animate repeatCount=\"indefinite\" keyTimes=\"0.0;0.0769230769;1.0\" attributeName=\"opacity\" dur=\"3.3600000000000003s\" values=\"1.0;1.0;1.0\"/>\n</rect>\n<rect x=\"415\" y=\"-1385\" width=\"70\" height=\"70\" rx=\"15\" fill=\"#84A1AE\" opacity=\"0.2\">\n<animate repeatCount=\"indefinite\" keyTimes=\"0.0;0.0769230769;0.5384615385;0.6153846154;1.0\" attributeName=\"opacity\" dur=\"3.3600000000000003s\" values=\"0.2;0.2;0.2;1.0;1.0\"/>\n</rect>\n<rect x=\"415\" y=\"-1485\" width=\"70\" height=\"70\" rx=\"15\" fill=\"#84A1AE\" opacity=\"0.2\">\n<animate repeatCount=\"indefinite\" keyTimes=\"0.0;0.0769230769;0.6923076923;0.7692307692;1.0\" attributeName=\"opacity\" dur=\"3.3600000000000003s\" values=\"0.2;0.2;0.2;1.0;1.0\"/>\n</rect>\n<rect x=\"415\" y=\"-1585\" width=\"70\" height=\"70\" rx=\"15\" fill=\"#84A1AE\" opacity=\"0.2\">\n<animate repeatCount=\"indefinite\" keyTimes=\"0.0;0.0769230769;0.8461538462;0.9230769231;1.0\" attributeName=\"opacity\" dur=\"3.3600000000000003s\" values=\"0.2;0.2;0.2;1.0;1.0\"/>\n</rect>\n<rect x=\"515\" y=\"-485\" width=\"70\" height=\"70\" rx=\"15\" fill=\"#84A1AE\">\n<animate repeatCount=\"indefinite\" keyTimes=\"0.0;0.0769230769;1.0\" attributeName=\"opacity\" dur=\"3.3600000000000003s\" values=\"1.0;1.0;1.0\"/>\n</rect>\n<rect x=\"515\" y=\"-1285\" width=\"70\" height=\"70\" rx=\"15\" fill=\"#84A1AE\">\n<animate repeatCount=\"indefinite\" keyTimes=\"0.0;0.0769230769;1.0\" attributeName=\"opacity\" dur=\"3.3600000000000003s\" values=\"1.0;1.0;1.0\"/>\n</rect>\n<rect x=\"515\" y=\"-1385\" width=\"70\" height=\"70\" rx=\"15\" fill=\"#84A1AE\" opacity=\"0.2\">\n<animate repeatCount=\"indefinite\" keyTimes=\"0.0;0.0769230769;0.5384615385;0.6153846154;1.0\" attributeName=\"opacity\" dur=\"3.3600000000000003s\" values=\"0.2;0.2;0.2;1.0;1.0\"/>\n</rect>\n<rect x=\"515\" y=\"-1585\" width=\"70\" height=\"70\" rx=\"15\" fill=\"#84A1AE\" opacity=\"0.2\">\n<animate repeatCount=\"indefinite\" keyTimes=\"0.0;0.0769230769;0.8461538462;0.9230769231;1.0\" attributeName=\"opacity\" dur=\"3.3600000000000003s\" values=\"0.2;0.2;0.2;1.0;1.0\"/>\n</rect>\n<rect x=\"615\" y=\"-485\" width=\"70\" height=\"70\" rx=\"15\" fill=\"#84A1AE\">\n<animate repeatCount=\"indefinite\" keyTimes=\"0.0;0.0769230769;1.0\" attributeName=\"opacity\" dur=\"3.3600000000000003s\" values=\"1.0;1.0;1.0\"/>\n</rect>\n<rect x=\"615\" y=\"-985\" width=\"70\" height=\"70\" rx=\"15\" fill=\"#84A1AE\">\n<animate repeatCount=\"indefinite\" keyTimes=\"0.0;0.0769230769;1.0\" attributeName=\"opacity\" dur=\"3.3600000000000003s\" values=\"1.0;1.0;1.0\"/>\n</rect>\n<rect x=\"615\" y=\"-1085\" width=\"70\" height=\"70\" rx=\"15\" fill=\"#84A1AE\">\n<animate repeatCount=\"indefinite\" keyTimes=\"0.0;0.0769230769;1.0\" attributeName=\"opacity\" dur=\"3.3600000000000003s\" values=\"1.0;1.0;1.0\"/>\n</rect>\n<rect x=\"615\" y=\"-1485\" width=\"70\" height=\"70\" rx=\"15\" fill=\"#84A1AE\" opacity=\"0.2\">\n<animate repeatCount=\"indefinite\" keyTimes=\"0.0;0.0769230769;0.6923076923;0.7692307692;1.0\" attributeName=\"opacity\" dur=\"3.3600000000000003s\" values=\"0.2;0.2;0.2;1.0;1.0\"/>\n</rect>\n<rect x=\"615\" y=\"-1585\" width=\"70\" height=\"70\" rx=\"15\" fill=\"#84A1AE\" opacity=\"0.2\">\n<animate repeatCount=\"indefinite\" keyTimes=\"0.0;0.0769230769;0.8461538462;0.9230769231;1.0\" attributeName=\"opacity\" dur=\"3.3600000000000003s\" values=\"0.2;0.2;0.2;1.0;1.0\"/>\n</rect>\n<rect x=\"715\" y=\"-485\" width=\"70\" height=\"70\" rx=\"15\" fill=\"#84A1AE\">\n<animate repeatCount=\"indefinite\" keyTimes=\"0.0;0.0769230769;1.0\" attributeName=\"opacity\" dur=\"3.3600000000000003s\" values=\"1.0;1.0;1.0\"/>\n</rect>\n<rect x=\"715\" y=\"-685\" width=\"70\" height=\"70\" rx=\"15\" fill=\"#84A1AE\">\n<animate repeatCount=\"indefinite\" keyTimes=\"0.0;0.0769230769;1.0\" attributeName=\"opacity\" dur=\"3.3600000000000003s\" values=\"1.0;1.0;1.0\"/>\n</rect>\n<rect x=\"715\" y=\"-785\" width=\"70\" height=\"70\" rx=\"15\" fill=\"#84A1AE\">\n<animate repeatCount=\"indefinite\" keyTimes=\"0.0;0.0769230769;1.0\" attributeName=\"opacity\" dur=\"3.3600000000000003s\" values=\"1.0;1.0;1.0\"/>\n</rect>\n<rect x=\"715\" y=\"-1585\" width=\"70\" height=\"70\" rx=\"15\" fill=\"#84A1AE\" opacity=\"0.2\">\n<animate repeatCount=\"indefinite\" keyTimes=\"0.0;0.0769230769;0.8461538462;0.9230769231;1.0\" attributeName=\"opacity\" dur=\"3.3600000000000003s\" values=\"0.2;0.2;0.2;1.0;1.0\"/>\n</rect>\n<rect x=\"815\" y=\"-485\" width=\"70\" height=\"70\" rx=\"15\" fill=\"#84A1AE\">\n<animate repeatCount=\"indefinite\" keyTimes=\"0.0;0.0769230769;1.0\" attributeName=\"opacity\" dur=\"3.3600000000000003s\" values=\"1.0;1.0;1.0\"/>\n</rect>\n<rect x=\"815\" y=\"-885\" width=\"70\" height=\"70\" rx=\"15\" fill=\"#84A1AE\">\n<animate repeatCount=\"indefinite\" keyTimes=\"0.0;0.0769230769;1.0\" attributeName=\"opacity\" dur=\"3.3600000000000003s\" values=\"1.0;1.0;1.0\"/>\n</rect>\n<rect x=\"815\" y=\"-985\" width=\"70\" height=\"70\" rx=\"15\" fill=\"#84A1AE\">\n<animate repeatCount=\"indefinite\" keyTimes=\"0.0;0.0769230769;1.0\" attributeName=\"opacity\" dur=\"3.3600000000000003s\" values=\"1.0;1.0;1.0\"/>\n</rect>\n<rect x=\"815\" y=\"-1185\" width=\"70\" height=\"70\" rx=\"15\" fill=\"#84A1AE\">\n<animate repeatCount=\"indefinite\" keyTimes=\"0.0;0.0769230769;1.0\" attributeName=\"opacity\" dur=\"3.3600000000000003s\" values=\"1.0;1.0;1.0\"/>\n</rect>\n<rect x=\"815\" y=\"-1285\" width=\"70\" height=\"70\" rx=\"15\" fill=\"#84A1AE\">\n<animate repeatCount=\"indefinite\" keyTimes=\"0.0;0.0769230769;1.0\" attributeName=\"opacity\" dur=\"3.3600000000000003s\" values=\"1.0;1.0;1.0\"/>\n</rect>\n<rect x=\"815\" y=\"-1385\" width=\"70\" height=\"70\" rx=\"15\" fill=\"#84A1AE\" opacity=\"0.2\">\n<animate repeatCount=\"indefinite\" keyTimes=\"0.0;0.0769230769;0.5384615385;0.6153846154;1.0\" attributeName=\"opacity\" dur=\"3.3600000000000003s\" values=\"0.2;0.2;0.2;1.0;1.0\"/>\n</rect>\n<rect x=\"815\" y=\"-1485\" width=\"70\" height=\"70\" rx=\"15\" fill=\"#84A1AE\" opacity=\"0.2\">\n<animate repeatCount=\"indefinite\" keyTimes=\"0.0;0.0769230769;0.6923076923;0.7692307692;1.0\" attributeName=\"opacity\" dur=\"3.3600000000000003s\" values=\"0.2;0.2;0.2;1.0;1.0\"/>\n</rect>\n<rect x=\"815\" y=\"-1585\" width=\"70\" height=\"70\" rx=\"15\" fill=\"#84A1AE\" opacity=\"0.2\">\n<animate repeatCount=\"indefinite\" keyTimes=\"0.0;0.0769230769;0.8461538462;0.9230769231;1.0\" attributeName=\"opacity\" dur=\"3.3600000000000003s\" values=\"0.2;0.2;0.2;1.0;1.0\"/>\n</rect>\n<rect x=\"915\" y=\"-485\" width=\"70\" height=\"70\" rx=\"15\" fill=\"#84A1AE\">\n<animate repeatCount=\"indefinite\" keyTimes=\"0.0;0.0769230769;1.0\" attributeName=\"opacity\" dur=\"3.3600000000000003s\" values=\"1.0;1.0;1.0\"/>\n</rect>\n<rect x=\"915\" y=\"-685\" width=\"70\" height=\"70\" rx=\"15\" fill=\"#84A1AE\">\n<animate repeatCount=\"indefinite\" keyTimes=\"0.0;0.0769230769;1.0\" attributeName=\"opacity\" dur=\"3.3600000000000003s\" values=\"1.0;1.0;1.0\"/>\n</rect>\n<rect x=\"915\" y=\"-885\" width=\"70\" height=\"70\" rx=\"15\" fill=\"#84A1AE\">\n<animate repeatCount=\"indefinite\" keyTimes=\"0.0;0.0769230769;1.0\" attributeName=\"opacity\" dur=\"3.3600000000000003s\" values=\"1.0;1.0;1.0\"/>\n</rect>\n<rect x=\"915\" y=\"-1085\" width=\"70\" height=\"70\" rx=\"15\" fill=\"#84A1AE\">\n<animate repeatCount=\"indefinite\" keyTimes=\"0.0;0.0769230769;1.0\" attributeName=\"opacity\" dur=\"3.3600000000000003s\" values=\"1.0;1.0;1.0\"/>\n</rect>\n<rect x=\"915\" y=\"-1285\" width=\"70\" height=\"70\" rx=\"15\" fill=\"#84A1AE\">\n<animate repeatCount=\"indefinite\" keyTimes=\"0.0;0.0769230769;1.0\" attributeName=\"opacity\" dur=\"3.3600000000000003s\" values=\"1.0;1.0;1.0\"/>\n</rect>\n<rect x=\"915\" y=\"-1585\" width=\"70\" height=\"70\" rx=\"15\" fill=\"#84A1AE\" opacity=\"0.2\">\n<animate repeatCount=\"indefinite\" keyTimes=\"0.0;0.0769230769;0.8461538462;0.9230769231;1.0\" attributeName=\"opacity\" dur=\"3.3600000000000003s\" values=\"0.2;0.2;0.2;1.0;1.0\"/>\n</rect>\n<rect x=\"1015\" y=\"-485\" width=\"70\" height=\"70\" rx=\"15\" fill=\"#84A1AE\">\n<animate repeatCount=\"indefinite\" keyTimes=\"0.0;0.0769230769;1.0\" attributeName=\"opacity\" dur=\"3.3600000000000003s\" values=\"1.0;1.0;1.0\"/>\n</rect>\n<rect x=\"1015\" y=\"-1185\" width=\"70\" height=\"70\" rx=\"15\" fill=\"#84A1AE\">\n<animate repeatCount=\"indefinite\" keyTimes=\"0.0;0.0769230769;1.0\" attributeName=\"opacity\" dur=\"3.3600000000000003s\" values=\"1.0;1.0;1.0\"/>\n</rect>\n<rect x=\"1015\" y=\"-1285\" width=\"70\" height=\"70\" rx=\"15\" fill=\"#84A1AE\">\n<animate repeatCount=\"indefinite\" keyTimes=\"0.0;0.0769230769;1.0\" attributeName=\"opacity\" dur=\"3.3600000000000003s\" values=\"1.0;1.0;1.0\"/>\n</rect>\n<rect x=\"1015\" y=\"-1585\" width=\"70\" height=\"70\" rx=\"15\" fill=\"#84A1AE\" opacity=\"0.2\">\n<animate repeatCount=\"indefinite\" keyTimes=\"0.0;0.0769230769;0.8461538462;0.9230769231;1.0\" attributeName=\"opacity\" dur=\"3.3600000000000003s\" values=\"0.2;0.2;0.2;1.0;1.0\"/>\n</rect>\n<rect x=\"1115\" y=\"-485\" width=\"70\" height=\"70\" rx=\"15\" fill=\"#84A1AE\">\n<animate repeatCount=\"indefinite\" keyTimes=\"0.0;0.0769230769;1.0\" attributeName=\"opacity\" dur=\"3.3600000000000003s\" values=\"1.0;1.0;1.0\"/>\n</rect>\n<rect x=\"1115\" y=\"-685\" width=\"70\" height=\"70\" rx=\"15\" fill=\"#84A1AE\">\n<animate repeatCount=\"indefinite\" keyTimes=\"0.0;0.0769230769;1.0\" attributeName=\"opacity\" dur=\"3.3600000000000003s\" values=\"1.0;1.0;1.0\"/>\n</rect>\n<rect x=\"1115\" y=\"-985\" width=\"70\" height=\"70\" rx=\"15\" fill=\"#84A1AE\">\n<animate repeatCount=\"indefinite\" keyTimes=\"0.0;0.0769230769;1.0\" attributeName=\"opacity\" dur=\"3.3600000000000003s\" values=\"1.0;1.0;1.0\"/>\n</rect>\n<rect x=\"1115\" y=\"-1485\" width=\"70\" height=\"70\" rx=\"15\" fill=\"#84A1AE\" opacity=\"0.2\">\n<animate repeatCount=\"indefinite\" keyTimes=\"0.0;0.0769230769;0.6923076923;0.7692307692;1.0\" attributeName=\"opacity\" dur=\"3.3600000000000003s\" values=\"0.2;0.2;0.2;1.0;1.0\"/>\n</rect>\n<rect x=\"1115\" y=\"-1585\" width=\"70\" height=\"70\" rx=\"15\" fill=\"#84A1AE\" opacity=\"0.2\">\n<animate repeatCount=\"indefinite\" keyTimes=\"0.0;0.0769230769;0.8461538462;0.9230769231;1.0\" attributeName=\"opacity\" dur=\"3.3600000000000003s\" values=\"0.2;0.2;0.2;1.0;1.0\"/>\n</rect>\n<rect x=\"1215\" y=\"-485\" width=\"70\" height=\"70\" rx=\"15\" fill=\"#84A1AE\">\n<animate repeatCount=\"indefinite\" keyTimes=\"0.0;0.0769230769;1.0\" attributeName=\"opacity\" dur=\"3.3600000000000003s\" values=\"1.0;1.0;1.0\"/>\n</rect>\n<rect x=\"1215\" y=\"-785\" width=\"70\" height=\"70\" rx=\"15\" fill=\"#84A1AE\">\n<animate repeatCount=\"indefinite\" keyTimes=\"0.0;0.0769230769;1.0\" attributeName=\"opacity\" dur=\"3.3600000000000003s\" values=\"1.0;1.0;1.0\"/>\n</rect>\n<rect x=\"1215\" y=\"-985\" width=\"70\" height=\"70\" rx=\"15\" fill=\"#84A1AE\">\n<animate repeatCount=\"indefinite\" keyTimes=\"0.0;0.0769230769;1.0\" attributeName=\"opacity\" dur=\"3.3600000000000003s\" values=\"1.0;1.0;1.0\"/>\n</rect>\n<rect x=\"1215\" y=\"-1085\" width=\"70\" height=\"70\" rx=\"15\" fill=\"#84A1AE\">\n<animate repeatCount=\"indefinite\" keyTimes=\"0.0;0.0769230769;1.0\" attributeName=\"opacity\" dur=\"3.3600000000000003s\" values=\"1.0;1.0;1.0\"/>\n</rect>\n<rect x=\"1215\" y=\"-1585\" width=\"70\" height=\"70\" rx=\"15\" fill=\"#84A1AE\" opacity=\"0.2\">\n<animate repeatCount=\"indefinite\" keyTimes=\"0.0;0.0769230769;0.8461538462;0.9230769231;1.0\" attributeName=\"opacity\" dur=\"3.3600000000000003s\" values=\"0.2;0.2;0.2;1.0;1.0\"/>\n</rect>\n<rect x=\"1315\" y=\"-485\" width=\"70\" height=\"70\" rx=\"15\" fill=\"#84A1AE\">\n<animate repeatCount=\"indefinite\" keyTimes=\"0.0;0.0769230769;1.0\" attributeName=\"opacity\" dur=\"3.3600000000000003s\" values=\"1.0;1.0;1.0\"/>\n</rect>\n<rect x=\"1315\" y=\"-785\" width=\"70\" height=\"70\" rx=\"15\" fill=\"#84A1AE\">\n<animate repeatCount=\"indefinite\" keyTimes=\"0.0;0.0769230769;1.0\" attributeName=\"opacity\" dur=\"3.3600000000000003s\" values=\"1.0;1.0;1.0\"/>\n</rect>\n<rect x=\"1315\" y=\"-885\" width=\"70\" height=\"70\" rx=\"15\" fill=\"#84A1AE\">\n<animate repeatCount=\"indefinite\" keyTimes=\"0.0;0.0769230769;1.0\" attributeName=\"opacity\" dur=\"3.3600000000000003s\" values=\"1.0;1.0;1.0\"/>\n</rect>\n<rect x=\"1315\" y=\"-985\" width=\"70\" height=\"70\" rx=\"15\" fill=\"#84A1AE\">\n<animate repeatCount=\"indefinite\" keyTimes=\"0.0;0.0769230769;1.0\" attributeName=\"opacity\" dur=\"3.3600000000000003s\" values=\"1.0;1.0;1.0\"/>\n</rect>\n<rect x=\"1315\" y=\"-1585\" width=\"70\" height=\"70\" rx=\"15\" fill=\"#84A1AE\" opacity=\"0.2\">\n<animate repeatCount=\"indefinite\" keyTimes=\"0.0;0.0769230769;1.0\" attributeName=\"opacity\" dur=\"3.3600000000000003s\" values=\"0.2;0.2;0.2\"/>\n</rect>\n<rect x=\"1415\" y=\"-485\" width=\"70\" height=\"70\" rx=\"15\" fill=\"#84A1AE\" opacity=\"0.2\">\n<animate repeatCount=\"indefinite\" keyTimes=\"0.0;0.0769230769;1.0\" attributeName=\"opacity\" dur=\"3.3600000000000003s\" values=\"0.2;0.2;0.2\"/>\n</rect>\n<rect x=\"1415\" y=\"-585\" width=\"70\" height=\"70\" rx=\"15\" fill=\"#84A1AE\" opacity=\"0.2\">\n<animate repeatCount=\"indefinite\" keyTimes=\"0.0;0.0769230769;1.0\" attributeName=\"opacity\" dur=\"3.3600000000000003s\" values=\"0.2;0.2;0.2\"/>\n</rect>\n<rect x=\"1415\" y=\"-785\" width=\"70\" height=\"70\" rx=\"15\" fill=\"#84A1AE\" opacity=\"0.2\">\n<animate repeatCount=\"indefinite\" keyTimes=\"0.0;0.0769230769;1.0\" attributeName=\"opacity\" dur=\"3.3600000000000003s\" values=\"0.2;0.2;0.2\"/>\n</rect>\n<rect x=\"1415\" y=\"-885\" width=\"70\" height=\"70\" rx=\"15\" fill=\"#84A1AE\" opacity=\"0.2\">\n<animate repeatCount=\"indefinite\" keyTimes=\"0.0;0.0769230769;1.0\" attributeName=\"opacity\" dur=\"3.3600000000000003s\" values=\"0.2;0.2;0.2\"/>\n</rect>\n<rect x=\"1415\" y=\"-1085\" width=\"70\" height=\"70\" rx=\"15\" fill=\"#84A1AE\" opacity=\"0.2\">\n<animate repeatCount=\"indefinite\" keyTimes=\"0.0;0.0769230769;1.0\" attributeName=\"opacity\" dur=\"3.3600000000000003s\" values=\"0.2;0.2;0.2\"/>\n</rect>\n<rect x=\"1415\" y=\"-1285\" width=\"70\" height=\"70\" rx=\"15\" fill=\"#84A1AE\" opacity=\"0.2\">\n<animate repeatCount=\"indefinite\" keyTimes=\"0.0;0.0769230769;1.0\" attributeName=\"opacity\" dur=\"3.3600000000000003s\" values=\"0.2;0.2;0.2\"/>\n</rect>\n<rect x=\"1415\" y=\"-1585\" width=\"70\" height=\"70\" rx=\"15\" fill=\"#84A1AE\" opacity=\"0.2\">\n<animate repeatCount=\"indefinite\" keyTimes=\"0.0;0.0769230769;1.0\" attributeName=\"opacity\" dur=\"3.3600000000000003s\" values=\"0.2;0.2;0.2\"/>\n</rect>\n<rect x=\"1515\" y=\"-485\" width=\"70\" height=\"70\" rx=\"15\" fill=\"#84A1AE\" opacity=\"0.2\">\n<animate repeatCount=\"indefinite\" keyTimes=\"0.0;0.0769230769;1.0\" attributeName=\"opacity\" dur=\"3.3600000000000003s\" values=\"0.2;0.2;0.2\"/>\n</rect>\n<rect x=\"1515\" y=\"-585\" width=\"70\" height=\"70\" rx=\"15\" fill=\"#84A1AE\" opacity=\"0.2\">\n<animate repeatCount=\"indefinite\" keyTimes=\"0.0;0.0769230769;1.0\" attributeName=\"opacity\" dur=\"3.3600000000000003s\" values=\"0.2;0.2;0.2\"/>\n</rect>\n<rect x=\"1515\" y=\"-685\" width=\"70\" height=\"70\" rx=\"15\" fill=\"#84A1AE\" opacity=\"0.2\">\n<animate repeatCount=\"indefinite\" keyTimes=\"0.0;0.0769230769;1.0\" attributeName=\"opacity\" dur=\"3.3600000000000003s\" values=\"0.2;0.2;0.2\"/>\n</rect>\n<rect x=\"1515\" y=\"-785\" width=\"70\" height=\"70\" rx=\"15\" fill=\"#84A1AE\" opacity=\"0.2\">\n<animate repeatCount=\"indefinite\" keyTimes=\"0.0;0.0769230769;1.0\" attributeName=\"opacity\" dur=\"3.3600000000000003s\" values=\"0.2;0.2;0.2\"/>\n</rect>\n<rect x=\"1515\" y=\"-885\" width=\"70\" height=\"70\" rx=\"15\" fill=\"#84A1AE\" opacity=\"0.2\">\n<animate repeatCount=\"indefinite\" keyTimes=\"0.0;0.0769230769;1.0\" attributeName=\"opacity\" dur=\"3.3600000000000003s\" values=\"0.2;0.2;0.2\"/>\n</rect>\n<rect x=\"1515\" y=\"-985\" width=\"70\" height=\"70\" rx=\"15\" fill=\"#84A1AE\" opacity=\"0.2\">\n<animate repeatCount=\"indefinite\" keyTimes=\"0.0;0.0769230769;1.0\" attributeName=\"opacity\" dur=\"3.3600000000000003s\" values=\"0.2;0.2;0.2\"/>\n</rect>\n<rect x=\"1515\" y=\"-1085\" width=\"70\" height=\"70\" rx=\"15\" fill=\"#84A1AE\" opacity=\"0.2\">\n<animate repeatCount=\"indefinite\" keyTimes=\"0.0;0.0769230769;1.0\" attributeName=\"opacity\" dur=\"3.3600000000000003s\" values=\"0.2;0.2;0.2\"/>\n</rect>\n<rect x=\"1515\" y=\"-1185\" width=\"70\" height=\"70\" rx=\"15\" fill=\"#84A1AE\" opacity=\"0.2\">\n<animate repeatCount=\"indefinite\" keyTimes=\"0.0;0.0769230769;1.0\" attributeName=\"opacity\" dur=\"3.3600000000000003s\" values=\"0.2;0.2;0.2\"/>\n</rect>\n<rect x=\"1515\" y=\"-1285\" width=\"70\" height=\"70\" rx=\"15\" fill=\"#84A1AE\" opacity=\"0.2\">\n<animate repeatCount=\"indefinite\" keyTimes=\"0.0;0.0769230769;1.0\" attributeName=\"opacity\" dur=\"3.3600000000000003s\" values=\"0.2;0.2;0.2\"/>\n</rect>\n<rect x=\"1515\" y=\"-1385\" width=\"70\" height=\"70\" rx=\"15\" fill=\"#84A1AE\" opacity=\"0.2\">\n<animate repeatCount=\"indefinite\" keyTimes=\"0.0;0.0769230769;1.0\" attributeName=\"opacity\" dur=\"3.3600000000000003s\" values=\"0.2;0.2;0.2\"/>\n</rect>\n<rect x=\"1515\" y=\"-1485\" width=\"70\" height=\"70\" rx=\"15\" fill=\"#84A1AE\" opacity=\"0.2\">\n<animate repeatCount=\"indefinite\" keyTimes=\"0.0;0.0769230769;1.0\" attributeName=\"opacity\" dur=\"3.3600000000000003s\" values=\"0.2;0.2;0.2\"/>\n</rect>\n<rect x=\"1515\" y=\"-1585\" width=\"70\" height=\"70\" rx=\"15\" fill=\"#84A1AE\" opacity=\"0.2\">\n<animate repeatCount=\"indefinite\" keyTimes=\"0.0;0.0769230769;1.0\" attributeName=\"opacity\" dur=\"3.3600000000000003s\" values=\"0.2;0.2;0.2\"/>\n</rect>\n<circle cx=\"850\" cy=\"-750\" r=\"35\" fill=\"#c1433c\">\n<animate repeatCount=\"indefinite\" keyTimes=\"0.0;0.0769230769;0.1538461538;0.2307692308;0.3846153846;0.4615384615;0.5384615385;0.6153846154;0.6923076923;0.7692307692;0.8461538462;0.9230769231;1.0\" attributeName=\"cy\" dur=\"3.3600000000000003s\" values=\"-750;-750;-650;-550;-550;-650;-750;-850;-850;-950;-950;-1050;-1150\"/>\n<animate repeatCount=\"indefinite\" keyTimes=\"0.0;0.0769230769;0.2307692308;0.3076923077;0.3846153846;0.6153846154;0.6923076923;1.0\" attributeName=\"cx\" dur=\"3.3600000000000003s\" values=\"850;850;850;750;650;650;750;750\"/>\n<animate repeatCount=\"indefinite\" keyTimes=\"0.0;0.0769230769;0.9230769231;1.0\" attributeName=\"visibility\" dur=\"3.3600000000000003s\" values=\"visible;visible;visible;hidden\"/>\n<animate repeatCount=\"indefinite\" keyTimes=\"0.0;0.0769230769;1.0\" attributeName=\"opacity\" dur=\"3.3600000000000003s\" values=\"1.0;1.0;1.0\"/>\n</circle>\n<circle cx=\"750\" cy=\"-1150\" r=\"35\" stroke=\"#c1433c\" stroke-width=\"10\" fill=\"none\">\n<animate repeatCount=\"indefinite\" keyTimes=\"0.0;0.0769230769;0.9230769231;1.0\" attributeName=\"visibility\" dur=\"3.3600000000000003s\" values=\"visible;visible;visible;hidden\"/>\n</circle>\n</svg>",
      "text/plain": [
       "<IPython.core.display.SVG object>"
      ]
     },
     "metadata": {},
     "output_type": "display_data"
    }
   ],
   "source": [
    "for iteration in range(iterations):\n",
    "    states_current = env.reset()\n",
    "    dones = [False, ...]\n",
    "    while not all(dones):\n",
    "        for t in range(T_horizon):\n",
    "            #print(s)\n",
    "            s_current = states_current[0].flatten()\n",
    "            prob = model.pi(torch.from_numpy(s_current).float())            \n",
    "            m = Categorical(prob)\n",
    "            a = m.sample().item()\n",
    "            actions = [a]\n",
    "            #env.render()\n",
    "            states_next, rewards, dones, info = env.step(actions)\n",
    "            r = rewards[0] - 1\n",
    "            s_next = states_next[0].flatten()\n",
    "            model.put_data((s_current, a, r/100.0, s_next, prob[a].item(), dones[0]))\n",
    "            states_current = states_next\n",
    "            score += r\n",
    "            if all(dones):\n",
    "                if score/print_interval > min_play_reward:\n",
    "                    play_game()\n",
    "                break\n",
    "        model.train_net()\n",
    "    if iteration % print_interval == 0 and iteration != 0:\n",
    "        print(\"# of episode :{}, avg score : {:.1f}\".format(iteration, score/print_interval))\n",
    "        score = 0.0\n",
    "\n",
    "env.save_animation(\"render.svg\", egocentric_idx=0)\n",
    "display(SVG('render.svg'))\n",
    "env.close()\n"
   ]
  }
 ],
 "metadata": {
  "interpreter": {
   "hash": "744d50f6c007a553dbd973166a744335b1282d70e215c8db40fefc2d0f371375"
  },
  "kernelspec": {
   "display_name": "Python 3.8.10 ('rlenv')",
   "language": "python",
   "name": "python3"
  },
  "language_info": {
   "codemirror_mode": {
    "name": "ipython",
    "version": 3
   },
   "file_extension": ".py",
   "mimetype": "text/x-python",
   "name": "python",
   "nbconvert_exporter": "python",
   "pygments_lexer": "ipython3",
   "version": "3.8.10"
  },
  "orig_nbformat": 4
 },
 "nbformat": 4,
 "nbformat_minor": 2
}
